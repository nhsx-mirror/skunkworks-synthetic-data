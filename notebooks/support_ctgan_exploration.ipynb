{
 "cells": [
  {
   "cell_type": "markdown",
   "metadata": {},
   "source": [
    "# CT Gan\n",
    "\n",
    "This notebook explores the use of ctgan to generate synthetic data\n",
    "\n",
    "More information here: https://github.com/sdv-dev/CTGAN\n",
    "\n",
    "Walk through: https://sdv.dev/SDV/user_guides/single_table/ctgan.html"
   ]
  },
  {
   "cell_type": "code",
   "execution_count": null,
   "metadata": {},
   "outputs": [],
   "source": [
    "import numpy as np\n",
    "import pandas as pd\n",
    "\n",
    "from pycox.datasets import support\n",
    "from sdv.tabular import CTGAN"
   ]
  },
  {
   "cell_type": "code",
   "execution_count": null,
   "metadata": {},
   "outputs": [],
   "source": [
    "# Data from suport\n",
    "real_data = support.read_df().sample(200, random_state=0)\n",
    "real_data.reset_index(drop=True, inplace=True)\n",
    "real_data.head()"
   ]
  },
  {
   "cell_type": "code",
   "execution_count": null,
   "metadata": {},
   "outputs": [],
   "source": [
    "model = CTGAN(epochs=100, batch_size=100)\n",
    "model.fit(real_data)\n",
    "new_data = model.sample()"
   ]
  },
  {
   "cell_type": "code",
   "execution_count": null,
   "metadata": {},
   "outputs": [],
   "source": [
    "from synthetic_data_evaluation.report.evaluation_report import run_checks\n",
    "\n",
    "run_checks(real_data, new_data)"
   ]
  }
 ],
 "metadata": {
  "interpreter": {
   "hash": "1ab62992431f9b9d4010a535029f2d2ab49fc1d8aa0b8bab91fa0411233f6bc7"
  },
  "kernelspec": {
   "display_name": "Python 3.8.5 64-bit ('env': venv)",
   "name": "python3"
  },
  "language_info": {
   "codemirror_mode": {
    "name": "ipython",
    "version": 3
   },
   "file_extension": ".py",
   "mimetype": "text/x-python",
   "name": "python",
   "nbconvert_exporter": "python",
   "pygments_lexer": "ipython3",
   "version": "3.9.7"
  },
  "orig_nbformat": 4
 },
 "nbformat": 4,
 "nbformat_minor": 2
}
