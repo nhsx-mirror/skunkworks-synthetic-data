{
 "cells": [
  {
   "cell_type": "markdown",
   "metadata": {},
   "source": [
    "# Evaluation Notebook\n",
    "\n",
    "This notebook demonstrates how to use the synthetic data checks without using a kedro pipeline.\n",
    "\n",
    "To run this notebook please import two datasets in the first cell:\n",
    "- real_data\n",
    "- synthetic_data\n",
    "\n",
    "This notebook shows three examples of checks availible in the evaluation pipeline. All other checks listed [here](../docs/synthetic_data_eval.md) can be imported into a notebook following the examples below."
   ]
  },
  {
   "cell_type": "code",
   "execution_count": null,
   "metadata": {},
   "outputs": [],
   "source": [
    "# Import the real and synthetic datasets.\n",
    "import pandas as pd\n",
    "real_data = pd.read_csv(\"PATH/TO/CSV\")\n",
    "synthetic_data = pd.read_csv(\"PATH/TO/CSV\")"
   ]
  },
  {
   "cell_type": "code",
   "execution_count": null,
   "metadata": {},
   "outputs": [],
   "source": [
    "# Import SDV analysis\n",
    "import sys\n",
    "sys.path.append(\"../src\")\n",
    "from synthetic_data_evaluation.sdv_evaluation import run_sdv_analysis\n",
    "\n",
    "run_sdv_analysis(real_data=real_data, synthetic_data=synthetic_data)"
   ]
  },
  {
   "cell_type": "code",
   "execution_count": null,
   "metadata": {},
   "outputs": [],
   "source": [
    "# Import propensity score logestic regression\n",
    "from synthetic_data_evaluation.propensity_evaluation import propensity_score_logestic_regression\n",
    "\n",
    "propensity_score_logestic_regression(real_data=real_data, synthetic_data=synthetic_data, show_plot=True)"
   ]
  },
  {
   "cell_type": "code",
   "execution_count": null,
   "metadata": {},
   "outputs": [],
   "source": [
    "# Import gower analysis\n",
    "from synthetic_data_evaluation.gower_evaluation import gower_analysis\n",
    "\n",
    "gower_analysis(real_data=real_data, synthetic_data=synthetic_data)"
   ]
  }
 ],
 "metadata": {
  "interpreter": {
   "hash": "573f4d6dc1158bc59dab27d3e61b1cd18c831bd5c97572c50fe877d7395d1bb7"
  },
  "kernelspec": {
   "display_name": "Python 3.8.8 ('.env': venv)",
   "language": "python",
   "name": "python3"
  },
  "language_info": {
   "codemirror_mode": {
    "name": "ipython",
    "version": 3
   },
   "file_extension": ".py",
   "mimetype": "text/x-python",
   "name": "python",
   "nbconvert_exporter": "python",
   "pygments_lexer": "ipython3",
   "version": "3.8.8"
  },
  "orig_nbformat": 4
 },
 "nbformat": 4,
 "nbformat_minor": 2
}
