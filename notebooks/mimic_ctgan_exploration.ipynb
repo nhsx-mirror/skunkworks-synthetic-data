{
 "cells": [
  {
   "cell_type": "code",
   "execution_count": null,
   "metadata": {},
   "outputs": [],
   "source": [
    "import pandas as pd\n",
    "import numpy as np\n",
    "\n",
    "from pycox.datasets import support\n",
    "from sdv.tabular import CTGAN"
   ]
  },
  {
   "cell_type": "markdown",
   "metadata": {},
   "source": [
    "Download data from: https://physionet.org/content/mimiciii/1.4/"
   ]
  },
  {
   "cell_type": "code",
   "execution_count": null,
   "metadata": {},
   "outputs": [],
   "source": [
    "data = pd.read_csv(\"../data/02_intermediate/table_one_11074.csv\")"
   ]
  },
  {
   "cell_type": "code",
   "execution_count": null,
   "metadata": {},
   "outputs": [],
   "source": [
    "model = CTGAN(epochs=10)\n",
    "model.fit(data)\n",
    "synthetic_data = model.sample()\n",
    "synthetic_data.to_csv(\"../data/03_primary/synthetic_data_ct_gan1.csv\")"
   ]
  },
  {
   "cell_type": "code",
   "execution_count": null,
   "metadata": {},
   "outputs": [],
   "source": [
    "model.save(\"../data/06_models/ct_gan.pkl\")"
   ]
  },
  {
   "cell_type": "code",
   "execution_count": null,
   "metadata": {},
   "outputs": [],
   "source": [
    "from synthetic_data_evaluation.report.evaluation_report import create_comparison_report\n",
    "\n",
    "create_comparison_report(\n",
    "    synthetic_data_path=\"../data/synthetic_data_ct_gan1.csv\", real_data_path=\"../data/table_one_v2.csv\", filename=\"test\"\n",
    ")"
   ]
  }
 ],
 "metadata": {
  "interpreter": {
   "hash": "1ab62992431f9b9d4010a535029f2d2ab49fc1d8aa0b8bab91fa0411233f6bc7"
  },
  "kernelspec": {
   "display_name": "Python 3.8.5 64-bit ('env': venv)",
   "name": "python3"
  },
  "language_info": {
   "codemirror_mode": {
    "name": "ipython",
    "version": 3
   },
   "file_extension": ".py",
   "mimetype": "text/x-python",
   "name": "python",
   "nbconvert_exporter": "python",
   "pygments_lexer": "ipython3",
   "version": "3.6.8"
  },
  "orig_nbformat": 4
 },
 "nbformat": 4,
 "nbformat_minor": 2
}
